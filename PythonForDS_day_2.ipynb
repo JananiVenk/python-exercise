{
  "nbformat": 4,
  "nbformat_minor": 0,
  "metadata": {
    "colab": {
      "name": "PythonForDS day 2.ipynb",
      "provenance": []
    },
    "kernelspec": {
      "display_name": "Python 3",
      "name": "python3"
    },
    "language_info": {
      "name": "python"
    }
  },
  "cells": [
    {
      "cell_type": "markdown",
      "metadata": {
        "id": "ialGEU2nQJQI"
      },
      "source": [
        "Reverse a given list in Python"
      ]
    },
    {
      "cell_type": "code",
      "metadata": {
        "colab": {
          "base_uri": "https://localhost:8080/"
        },
        "id": "fGAmFRZT2-dw",
        "outputId": "abf5072b-c9be-4b6e-fdae-ecfa5ff7fbcd"
      },
      "source": [
        "aLsit = [100, 200, 300, 400, 500]\n",
        "aLsit.reverse()\n",
        "print(aLsit)"
      ],
      "execution_count": null,
      "outputs": [
        {
          "output_type": "stream",
          "text": [
            "[500, 400, 300, 200, 100]\n"
          ],
          "name": "stdout"
        }
      ]
    },
    {
      "cell_type": "markdown",
      "metadata": {
        "id": "RLtRZw2oQeP7"
      },
      "source": [
        "Concatenate two lists index-wise"
      ]
    },
    {
      "cell_type": "code",
      "metadata": {
        "colab": {
          "base_uri": "https://localhost:8080/"
        },
        "id": "LYEmmJR6QfHk",
        "outputId": "c197245d-e226-44dc-f93a-2dda976a5f06"
      },
      "source": [
        "list1 = [\"M\", \"na\", \"i\", \"Ke\"]\n",
        "list2 = [\"y\", \"me\", \"s\", \"lly\"]\n",
        "list3=[]\n",
        "for i in range(len(list1)):\n",
        "  list3.append(list1[i]+list2[i])\n",
        "print(list3)"
      ],
      "execution_count": null,
      "outputs": [
        {
          "output_type": "stream",
          "text": [
            "['My', 'name', 'is', 'Kelly']\n"
          ],
          "name": "stdout"
        }
      ]
    },
    {
      "cell_type": "markdown",
      "metadata": {
        "id": "O-eNpIk_Q7Wa"
      },
      "source": [
        "(or)"
      ]
    },
    {
      "cell_type": "code",
      "metadata": {
        "colab": {
          "base_uri": "https://localhost:8080/"
        },
        "id": "1_ZcnYBrQ9EA",
        "outputId": "4149df42-4fb1-4192-a399-b8a3cd507260"
      },
      "source": [
        "list1 = [\"M\", \"na\", \"i\", \"Ke\"]\n",
        "list2 = [\"y\", \"me\", \"s\", \"lly\"]\n",
        "x=[i+j for i,j in zip(list1,list2)]\n",
        "print(x)"
      ],
      "execution_count": null,
      "outputs": [
        {
          "output_type": "stream",
          "text": [
            "['My', 'name', 'is', 'Kelly']\n"
          ],
          "name": "stdout"
        }
      ]
    },
    {
      "cell_type": "markdown",
      "metadata": {
        "id": "Qi32iEL9RXZA"
      },
      "source": [
        "Given a Python list of numbers. Turn every item of a list into its square"
      ]
    },
    {
      "cell_type": "code",
      "metadata": {
        "colab": {
          "base_uri": "https://localhost:8080/"
        },
        "id": "9n8L1UW8RcFE",
        "outputId": "ae0ae100-58e3-4da6-fd8e-2cc46c0f6e36"
      },
      "source": [
        "aList = [1, 2, 3, 4, 5, 6, 7]\n",
        "print([x*x for x in aList])"
      ],
      "execution_count": null,
      "outputs": [
        {
          "output_type": "stream",
          "text": [
            "[1, 4, 9, 16, 25, 36, 49]\n"
          ],
          "name": "stdout"
        }
      ]
    },
    {
      "cell_type": "markdown",
      "metadata": {
        "id": "S9AUyi8bR4Jn"
      },
      "source": [
        "Concatenate two lists in the following order"
      ]
    },
    {
      "cell_type": "code",
      "metadata": {
        "colab": {
          "base_uri": "https://localhost:8080/"
        },
        "id": "-kqc6p_4R55F",
        "outputId": "17553d3f-1ed8-4871-f860-1d043ae94d2e"
      },
      "source": [
        "list1 = [\"Hello \", \"take \"]\n",
        "list2 = [\"Dear\", \"Sir\"]\n",
        "list3=[]\n",
        "for i in list1:\n",
        "  for j in list2:\n",
        "    list3.append(i+j)\n",
        "print(list3)"
      ],
      "execution_count": null,
      "outputs": [
        {
          "output_type": "stream",
          "text": [
            "['Hello Dear', 'Hello Sir', 'take Dear', 'take Sir']\n"
          ],
          "name": "stdout"
        }
      ]
    },
    {
      "cell_type": "markdown",
      "metadata": {
        "id": "F23aWsKMUMWe"
      },
      "source": [
        "(or)"
      ]
    },
    {
      "cell_type": "code",
      "metadata": {
        "colab": {
          "base_uri": "https://localhost:8080/"
        },
        "id": "wsB2-QIjVBux",
        "outputId": "1656d348-f3dd-4ce9-83b4-77fc90175678"
      },
      "source": [
        "list1 = [\"Hello \", \"take \"]\n",
        "list2 = [\"Dear\", \"Sir\"]\n",
        "list3=[x+y for x in list1 for y in list2]\n",
        "print(list3)"
      ],
      "execution_count": null,
      "outputs": [
        {
          "output_type": "stream",
          "text": [
            "['Hello Dear', 'Hello Sir', 'take Dear', 'take Sir']\n"
          ],
          "name": "stdout"
        }
      ]
    },
    {
      "cell_type": "code",
      "metadata": {
        "colab": {
          "base_uri": "https://localhost:8080/"
        },
        "id": "kD3ERW8XUOsX",
        "outputId": "064f836e-3c15-427c-e569-faec5e506380"
      },
      "source": [
        "list1 = [\"Hello \", \"take \"]\n",
        "list2 = [\"Dear\", \"Sir\"]\n",
        "list3=map(lambda x, y: x + y, list1, list2)//this cannot give all combinations\n",
        "print(list(list3))"
      ],
      "execution_count": null,
      "outputs": [
        {
          "output_type": "stream",
          "text": [
            "['Hello Dear', 'take Sir']\n"
          ],
          "name": "stdout"
        }
      ]
    },
    {
      "cell_type": "markdown",
      "metadata": {
        "id": "TfpQ6Gm9YJew"
      },
      "source": [
        "Given a two Python list. Iterate both lists simultaneously such that list1 should display item in\n",
        "original order and list2 in reverse order"
      ]
    },
    {
      "cell_type": "code",
      "metadata": {
        "colab": {
          "base_uri": "https://localhost:8080/"
        },
        "id": "D3CnVgsmYXBt",
        "outputId": "7ac475c0-33e9-428d-b4ed-628cbe30d73a"
      },
      "source": [
        "list1 = [10, 20, 30, 40]\n",
        "list2 = [100, 200, 300, 400]\n",
        "list3=zip(list1,list2[::-1])\n",
        "for i in list3:\n",
        "  x,y = i\n",
        "  print(x,y)"
      ],
      "execution_count": null,
      "outputs": [
        {
          "output_type": "stream",
          "text": [
            "10 400\n",
            "20 300\n",
            "30 200\n",
            "40 100\n"
          ],
          "name": "stdout"
        }
      ]
    },
    {
      "cell_type": "markdown",
      "metadata": {
        "id": "W6sNUyvUaxPD"
      },
      "source": [
        "Remove empty strings from the list of strings"
      ]
    },
    {
      "cell_type": "code",
      "metadata": {
        "colab": {
          "base_uri": "https://localhost:8080/"
        },
        "id": "LG1T5H3Oa6q7",
        "outputId": "07691c1e-fadf-45ad-f95b-daa23ff136b9"
      },
      "source": [
        "list1 = [\"Mike\", \"\", \"Emma\", \"Kelly\", \"\", \"Brad\"]\n",
        "list1=[i for i in list1 if i]\n",
        "print(list1)"
      ],
      "execution_count": null,
      "outputs": [
        {
          "output_type": "stream",
          "text": [
            "['Mike', 'Emma', 'Kelly', 'Brad']\n"
          ],
          "name": "stdout"
        }
      ]
    },
    {
      "cell_type": "markdown",
      "metadata": {
        "id": "jIGrHms2uF_g"
      },
      "source": [
        "Add item 7000 after 6000 in the following Python List"
      ]
    },
    {
      "cell_type": "code",
      "metadata": {
        "colab": {
          "base_uri": "https://localhost:8080/"
        },
        "id": "4EJaZqGpuJSj",
        "outputId": "be44ebd0-4843-4ae6-c5fe-e9ad8ce66464"
      },
      "source": [
        "list1 = [10, 20, [300, 400, [5000, 6000], 500], 30, 40]\n",
        "list1[2][2].insert(2,7000)\n",
        "print(list1)"
      ],
      "execution_count": null,
      "outputs": [
        {
          "output_type": "stream",
          "text": [
            "[10, 20, [300, 400, [5000, 6000, 7000], 500], 30, 40]\n"
          ],
          "name": "stdout"
        }
      ]
    },
    {
      "cell_type": "markdown",
      "metadata": {
        "id": "wdeX3HhHuxFR"
      },
      "source": [
        "Given a Python list, find value 20 in the list, and if it is present, replace it with 200. Only update\n",
        "the first occurrence of a value"
      ]
    },
    {
      "cell_type": "code",
      "metadata": {
        "colab": {
          "base_uri": "https://localhost:8080/"
        },
        "id": "mVfoHfEqu4HO",
        "outputId": "a628d7c9-309a-4794-a5eb-02951c4b09ec"
      },
      "source": [
        "list1 = [5, 10, 15, 20, 25, 50, 20]\n",
        "for i in range(len(list1)):\n",
        "  if list1[i]==20:\n",
        "    list1[i]=200\n",
        "    break\n",
        "list1\n",
        "  "
      ],
      "execution_count": null,
      "outputs": [
        {
          "output_type": "execute_result",
          "data": {
            "text/plain": [
              "[5, 10, 15, 200, 25, 50, 20]"
            ]
          },
          "metadata": {
            "tags": []
          },
          "execution_count": 23
        }
      ]
    },
    {
      "cell_type": "markdown",
      "metadata": {
        "id": "AeoQazCbvdxa"
      },
      "source": [
        "Given a Python list, remove all occurrence of 20 from the list"
      ]
    },
    {
      "cell_type": "code",
      "metadata": {
        "colab": {
          "base_uri": "https://localhost:8080/"
        },
        "id": "48phjmxuvhsq",
        "outputId": "cdd87ffe-d309-4e5e-ea37-f0af50d97748"
      },
      "source": [
        "list1 = [5, 20, 15, 20, 25, 50, 20]\n",
        "list1=[x for x in list1 if x!=20]\n",
        "print(list1)"
      ],
      "execution_count": null,
      "outputs": [
        {
          "output_type": "stream",
          "text": [
            "[5, 15, 25, 50]\n"
          ],
          "name": "stdout"
        }
      ]
    },
    {
      "cell_type": "markdown",
      "metadata": {
        "id": "QwXpyeDyvwHj"
      },
      "source": [
        "TUPLES\n",
        "\n",
        "Reverse the following tuple"
      ]
    },
    {
      "cell_type": "code",
      "metadata": {
        "colab": {
          "base_uri": "https://localhost:8080/"
        },
        "id": "DLYszPITwBPw",
        "outputId": "057b90c9-2e7a-4b2f-a7e9-c47982b0268a"
      },
      "source": [
        "\n",
        "aTuple= (10, 20, 30, 40, 50)\n",
        "aTuple=aTuple[::-1]\n",
        "print(aTuple)"
      ],
      "execution_count": null,
      "outputs": [
        {
          "output_type": "stream",
          "text": [
            "(50, 40, 30, 20, 10)\n"
          ],
          "name": "stdout"
        }
      ]
    },
    {
      "cell_type": "markdown",
      "metadata": {
        "id": "USHLPLmh12ni"
      },
      "source": [
        "Access value 20 from the following tuple"
      ]
    },
    {
      "cell_type": "code",
      "metadata": {
        "colab": {
          "base_uri": "https://localhost:8080/"
        },
        "id": "waEeGyLP16R_",
        "outputId": "5308eed2-8620-4587-d2c5-47ae1cbcfaa9"
      },
      "source": [
        "aTuple = (\"Orange\", [10, 20, 30], (5, 15, 25))\n",
        "print(aTuple[1][1])"
      ],
      "execution_count": null,
      "outputs": [
        {
          "output_type": "stream",
          "text": [
            "20\n"
          ],
          "name": "stdout"
        }
      ]
    },
    {
      "cell_type": "markdown",
      "metadata": {
        "id": "9IxtFLYy2LxR"
      },
      "source": [
        "Create a tuple with single item 50"
      ]
    },
    {
      "cell_type": "code",
      "metadata": {
        "colab": {
          "base_uri": "https://localhost:8080/"
        },
        "id": "O-wjGACX2MYB",
        "outputId": "0712d3ef-2b34-479b-daa9-b59e9de0f882"
      },
      "source": [
        "a=(50,)\n",
        "print(a)"
      ],
      "execution_count": null,
      "outputs": [
        {
          "output_type": "stream",
          "text": [
            "(50,)\n"
          ],
          "name": "stdout"
        }
      ]
    },
    {
      "cell_type": "markdown",
      "metadata": {
        "id": "1E80vbgS2RGk"
      },
      "source": [
        "Unpack the following tuple into 4 variables"
      ]
    },
    {
      "cell_type": "code",
      "metadata": {
        "colab": {
          "base_uri": "https://localhost:8080/"
        },
        "id": "MBrsSU042T3i",
        "outputId": "b6f6136b-9674-452f-d3dc-11eaad7643e0"
      },
      "source": [
        "aTuple = (10, 20, 30, 40)\n",
        "for x in aTuple:\n",
        "  print(x)"
      ],
      "execution_count": null,
      "outputs": [
        {
          "output_type": "stream",
          "text": [
            "10\n",
            "20\n",
            "30\n",
            "40\n"
          ],
          "name": "stdout"
        }
      ]
    },
    {
      "cell_type": "markdown",
      "metadata": {
        "id": "HG-NZKTc2w0M"
      },
      "source": [
        "Swap the following two tuples"
      ]
    },
    {
      "cell_type": "code",
      "metadata": {
        "colab": {
          "base_uri": "https://localhost:8080/"
        },
        "id": "LFHz0SWo2ygm",
        "outputId": "4049007b-dda2-406e-ec06-e5b104b86fca"
      },
      "source": [
        "tuple1 = (11, 22)\n",
        "tuple2 = (99, 88)\n",
        "a,b=tuple1\n",
        "c,d=tuple2\n",
        "tuple1=(c,d)\n",
        "tuple2=(a,b)\n",
        "print(tuple1)\n",
        "print(tuple2)\n"
      ],
      "execution_count": null,
      "outputs": [
        {
          "output_type": "stream",
          "text": [
            "(99, 88)\n",
            "(11, 22)\n"
          ],
          "name": "stdout"
        }
      ]
    },
    {
      "cell_type": "markdown",
      "metadata": {
        "id": "TFbMWeA03Uuh"
      },
      "source": [
        "Copy element 44 and 55 from the following tuple into a new tuple"
      ]
    },
    {
      "cell_type": "code",
      "metadata": {
        "colab": {
          "base_uri": "https://localhost:8080/"
        },
        "id": "8Fj4txAX3Vj6",
        "outputId": "b4c5e565-76b2-4485-80cc-3110a2538945"
      },
      "source": [
        "tuple1 = (11, 22, 33, 44, 55, 66)\n",
        "a,b,c,d,e,f=tuple1\n",
        "tuple2=(d,e)\n",
        "print(tuple2)"
      ],
      "execution_count": null,
      "outputs": [
        {
          "output_type": "stream",
          "text": [
            "(44, 55)\n"
          ],
          "name": "stdout"
        }
      ]
    },
    {
      "cell_type": "markdown",
      "metadata": {
        "id": "kudmLT7z3l1p"
      },
      "source": [
        "Modify the first item (22) of a list inside a following tuple to 222"
      ]
    },
    {
      "cell_type": "code",
      "metadata": {
        "colab": {
          "base_uri": "https://localhost:8080/"
        },
        "id": "W5dSX8h43qpK",
        "outputId": "eb0f9186-132f-436a-dc43-0b119c7df768"
      },
      "source": [
        "tuple1 = (11, [22, 33], 44, 55)\n",
        "a,b,c,d=tuple1\n",
        "b[0]=222\n",
        "tuple1=(a,b,c,d)\n",
        "print(tuple1)"
      ],
      "execution_count": null,
      "outputs": [
        {
          "output_type": "stream",
          "text": [
            "(11, [222, 33], 44, 55)\n"
          ],
          "name": "stdout"
        }
      ]
    },
    {
      "cell_type": "markdown",
      "metadata": {
        "id": "1HjAJWrm4cJf"
      },
      "source": [
        "Counts the number of occurrences of item 50 from a tuple"
      ]
    },
    {
      "cell_type": "code",
      "metadata": {
        "colab": {
          "base_uri": "https://localhost:8080/"
        },
        "id": "B-Db9clv4dKx",
        "outputId": "9ef27e86-1811-4f6e-a2eb-c0483b4ef330"
      },
      "source": [
        "tuple1 = (50, 10, 60, 70, 50)\n",
        "c=0\n",
        "for i in tuple1:\n",
        "  if i==50:\n",
        "    c+=1\n",
        "print(c)"
      ],
      "execution_count": null,
      "outputs": [
        {
          "output_type": "stream",
          "text": [
            "2\n"
          ],
          "name": "stdout"
        }
      ]
    },
    {
      "cell_type": "markdown",
      "metadata": {
        "id": "lkz7-DEMZAZE"
      },
      "source": [
        "SETS\n",
        "\n",
        "Return a new set of identical items from a given two set"
      ]
    },
    {
      "cell_type": "code",
      "metadata": {
        "colab": {
          "base_uri": "https://localhost:8080/"
        },
        "id": "27MVEKgCZIb7",
        "outputId": "c2816000-99c2-449b-e54f-a8240af303bb"
      },
      "source": [
        "set1 = {10, 20, 30, 40, 50}\n",
        "set2 = {30, 40, 50, 60, 70}\n",
        "set1.intersection(set2)"
      ],
      "execution_count": null,
      "outputs": [
        {
          "output_type": "execute_result",
          "data": {
            "text/plain": [
              "{30, 40, 50}"
            ]
          },
          "metadata": {
            "tags": []
          },
          "execution_count": 20
        }
      ]
    },
    {
      "cell_type": "markdown",
      "metadata": {
        "id": "TY1-CzNLZTJA"
      },
      "source": [
        "Returns a new set with all items from both sets by removing duplicates"
      ]
    },
    {
      "cell_type": "code",
      "metadata": {
        "colab": {
          "base_uri": "https://localhost:8080/"
        },
        "id": "al2J12_AZlb4",
        "outputId": "d0234343-c577-4ee1-f39d-76e74ffb9823"
      },
      "source": [
        "set1 = {10, 20, 30, 40, 50}\n",
        "set2 = {30, 40, 50, 60, 70}\n",
        "set1.union(set2)"
      ],
      "execution_count": null,
      "outputs": [
        {
          "output_type": "execute_result",
          "data": {
            "text/plain": [
              "{10, 20, 30, 40, 50, 60, 70}"
            ]
          },
          "metadata": {
            "tags": []
          },
          "execution_count": 21
        }
      ]
    },
    {
      "cell_type": "markdown",
      "metadata": {
        "id": "KptitUX_Zyxu"
      },
      "source": [
        "Given two Python sets, update the first set with items that exist only in the first set and not in the\n",
        "second set."
      ]
    },
    {
      "cell_type": "code",
      "metadata": {
        "colab": {
          "base_uri": "https://localhost:8080/"
        },
        "id": "x9uLlbQqZ0E7",
        "outputId": "c96162a6-9d25-4238-ef93-68689fad4f79"
      },
      "source": [
        "set1 = {10, 20, 30}\n",
        "set2 = {20, 40, 50}\n",
        "set1.difference(set2)"
      ],
      "execution_count": null,
      "outputs": [
        {
          "output_type": "execute_result",
          "data": {
            "text/plain": [
              "{10, 30}"
            ]
          },
          "metadata": {
            "tags": []
          },
          "execution_count": 22
        }
      ]
    },
    {
      "cell_type": "markdown",
      "metadata": {
        "id": "eixcf8Y4Z_xL"
      },
      "source": [
        "Remove items 10, 20, 30 from the following set at once"
      ]
    },
    {
      "cell_type": "code",
      "metadata": {
        "colab": {
          "base_uri": "https://localhost:8080/"
        },
        "id": "tZ51Zh2yaXXG",
        "outputId": "01d73cfa-c0c4-4941-84e6-34b44ba44331"
      },
      "source": [
        "set1 = {10, 20, 30, 40, 50}\n",
        "l=[10,20,30]\n",
        "set={x for x in set1 if x not in l}\n",
        "print(set)"
      ],
      "execution_count": null,
      "outputs": [
        {
          "output_type": "stream",
          "text": [
            "{40, 50}\n"
          ],
          "name": "stdout"
        }
      ]
    },
    {
      "cell_type": "markdown",
      "metadata": {
        "id": "64VxqQz_r479"
      },
      "source": [
        "Return a set of all elements in either A or B, but not both"
      ]
    },
    {
      "cell_type": "code",
      "metadata": {
        "colab": {
          "base_uri": "https://localhost:8080/"
        },
        "id": "k9PYwjOTsJRf",
        "outputId": "36cb319b-7a17-40a0-c42e-008dcfeb0243"
      },
      "source": [
        "set1 = {10, 20, 30, 40, 50}\n",
        "set2 = {30, 40, 50, 60, 70}\n",
        "(set1.union(set2)).difference(set1.intersection(set2))"
      ],
      "execution_count": null,
      "outputs": [
        {
          "output_type": "execute_result",
          "data": {
            "text/plain": [
              "{10, 20, 60, 70}"
            ]
          },
          "metadata": {
            "tags": []
          },
          "execution_count": 13
        }
      ]
    },
    {
      "cell_type": "markdown",
      "metadata": {
        "id": "YbQtWQDOs7Kk"
      },
      "source": [
        "Remove items from set1 that are not common to both set1 and set2"
      ]
    },
    {
      "cell_type": "code",
      "metadata": {
        "colab": {
          "base_uri": "https://localhost:8080/"
        },
        "id": "Vajen5lis_Uu",
        "outputId": "cfddd244-5f80-435f-b0c0-8465fcefbe8d"
      },
      "source": [
        "set1 = {10, 20, 30, 40, 50}\n",
        "set2 = {30, 40, 50, 60, 70}\n",
        "set1={x for x in set1 if x  in set2}\n",
        "print(set1)"
      ],
      "execution_count": null,
      "outputs": [
        {
          "output_type": "stream",
          "text": [
            "{40, 50, 30}\n"
          ],
          "name": "stdout"
        }
      ]
    },
    {
      "cell_type": "markdown",
      "metadata": {
        "id": "Ohzw4u_xdBE-"
      },
      "source": [
        "DICTIONARIES\n",
        "\n",
        "Merge following two Python dictionaries into one"
      ]
    },
    {
      "cell_type": "code",
      "metadata": {
        "colab": {
          "base_uri": "https://localhost:8080/"
        },
        "id": "1h2G12VtdF5L",
        "outputId": "3c9b555a-50a5-4212-c1bc-e29a466a3ad1"
      },
      "source": [
        "\n",
        "dict1 = {'Ten': 10, 'Twenty': 20, 'Thirty': 30}\n",
        "dict2 = {'Thirty': 30, 'Fourty': 40, 'Fifty': 50}\n",
        "dict3 = {**dict1, **dict2}\n",
        "print(dict3)"
      ],
      "execution_count": null,
      "outputs": [
        {
          "output_type": "stream",
          "text": [
            "{'Ten': 10, 'Twenty': 20, 'Thirty': 30, 'Fourty': 40, 'Fifty': 50}\n"
          ],
          "name": "stdout"
        }
      ]
    },
    {
      "cell_type": "markdown",
      "metadata": {
        "id": "ncsATKArNuW0"
      },
      "source": [
        "Access the value of key ‘history’ from the below dict"
      ]
    },
    {
      "cell_type": "code",
      "metadata": {
        "colab": {
          "base_uri": "https://localhost:8080/"
        },
        "id": "TS0CGrN_NvVp",
        "outputId": "ed4da5ee-a3c7-4ecf-f330-3302ca0d00fa"
      },
      "source": [
        "sampleDict = {\n",
        "\"class\":{\n",
        "\"student\":{\n",
        "\"name\":\"Mike\",\n",
        "\"marks\":{\n",
        "\"physics\":70,\n",
        "\"history\":80\n",
        "}\n",
        "}\n",
        "}\n",
        "}\n",
        "print(sampleDict[\"class\"][\"student\"][\"marks\"][\"history\"])"
      ],
      "execution_count": null,
      "outputs": [
        {
          "output_type": "stream",
          "text": [
            "80\n"
          ],
          "name": "stdout"
        }
      ]
    },
    {
      "cell_type": "markdown",
      "metadata": {
        "id": "BvM_QPftPBom"
      },
      "source": [
        "Create a new dictionary by extracting the following keys from a below dictionary"
      ]
    },
    {
      "cell_type": "code",
      "metadata": {
        "colab": {
          "base_uri": "https://localhost:8080/"
        },
        "id": "mhVpanQVPCPM",
        "outputId": "d25a7801-30d3-4e42-8933-2da34ac8985b"
      },
      "source": [
        "sampleDict = {\n",
        "\"name\": \"Kelly\",\n",
        "\"age\":25,\n",
        "\"salary\": 8000,\n",
        "\"city\": \"New york\"\n",
        "}\n",
        "print(sampleDict[\"name\"],sampleDict[\"salary\"])"
      ],
      "execution_count": null,
      "outputs": [
        {
          "output_type": "stream",
          "text": [
            "Kelly 8000\n"
          ],
          "name": "stdout"
        }
      ]
    },
    {
      "cell_type": "markdown",
      "metadata": {
        "id": "hqr1DEZnSFYu"
      },
      "source": [
        "Check if a value 200 exists in a dictionary"
      ]
    },
    {
      "cell_type": "code",
      "metadata": {
        "colab": {
          "base_uri": "https://localhost:8080/"
        },
        "id": "GnUD0N1TW3XG",
        "outputId": "4a53a499-2300-40cf-e501-342af31cd5ae"
      },
      "source": [
        "sampleDict = {'a': 100, 'b': 200, 'c': 300}\n",
        "print(200 in sampleDict.values())"
      ],
      "execution_count": null,
      "outputs": [
        {
          "output_type": "stream",
          "text": [
            "True\n"
          ],
          "name": "stdout"
        }
      ]
    },
    {
      "cell_type": "markdown",
      "metadata": {
        "id": "f67SIS60XCzu"
      },
      "source": [
        "Get the key of a minimum value from the following dictionary"
      ]
    },
    {
      "cell_type": "code",
      "metadata": {
        "colab": {
          "base_uri": "https://localhost:8080/"
        },
        "id": "DSNstIPyXEQd",
        "outputId": "54d8b436-2063-45ca-ce19-d021f21cc102"
      },
      "source": [
        "sampleDict = {\n",
        "'Physics': 82,\n",
        "'Math': 65,\n",
        "'history': 75\n",
        "}\n",
        "m=min(sampleDict.values())\n",
        "for x in sampleDict:\n",
        "   if sampleDict[x]==m :\n",
        "     print(x)"
      ],
      "execution_count": null,
      "outputs": [
        {
          "output_type": "stream",
          "text": [
            "Math\n"
          ],
          "name": "stdout"
        }
      ]
    }
  ]
}