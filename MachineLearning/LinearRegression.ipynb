{
  "nbformat": 4,
  "nbformat_minor": 0,
  "metadata": {
    "colab": {
      "name": "LinearRegression.ipynb",
      "provenance": []
    },
    "kernelspec": {
      "name": "python3",
      "display_name": "Python 3"
    },
    "language_info": {
      "name": "python"
    }
  },
  "cells": [
    {
      "cell_type": "code",
      "metadata": {
        "id": "T4F_mq23VYA1"
      },
      "source": [
        "import numpy as np\n",
        "import matplotlib.pyplot as plt\n",
        "from sklearn.linear_model import LinearRegression\n",
        "x=np.array([1,2,3,4])\n",
        "x = x.reshape(-1, 1)\n",
        "y=np.array([2,4,6,8])\n",
        "y= y.reshape(-1, 1)\n",
        "reg = LinearRegression()\n",
        "reg.fit(x,y,sample_weight=None)\n",
        "plt.plot(x,y)\n",
        "plt.show()\n",
        "print(\"Intercept is\",reg.intercept_)\n",
        "print(\"Slope is\",reg.coef_)\n",
        "X=float(input(\"Enter the x value:\"))\n",
        "Y=((reg.coef_*X)+reg.intercept_)\n",
        "print(Y)"
      ],
      "execution_count": null,
      "outputs": []
    }
  ]
}